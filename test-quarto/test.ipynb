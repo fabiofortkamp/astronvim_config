{
  "cells": [
    {
      "cell_type": "raw",
      "metadata": {},
      "source": [
        "---\n",
        "title: demo\n",
        "---"
      ],
      "id": "b7765b69"
    },
    {
      "cell_type": "code",
      "metadata": {},
      "source": [
        "print(1+2)"
      ],
      "id": "78588c1a",
      "execution_count": null,
      "outputs": []
    }
  ],
  "metadata": {
    "kernelspec": {
      "display_name": "Python 3",
      "language": "python",
      "name": "python3"
    }
  },
  "nbformat": 4,
  "nbformat_minor": 5
}